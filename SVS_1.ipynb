{
  "nbformat": 4,
  "nbformat_minor": 0,
  "metadata": {
    "colab": {
      "name": "SVS.ipynb",
      "provenance": [],
      "collapsed_sections": [
        "cPAEeXRbNR4I",
        "NwFYPA4x2W8n",
        "8vLi948TCM_N",
        "ru_DjdYsB78Z",
        "dedjM9YUmfvc",
        "briqkMEFmrZx",
        "ZkCmV8oBUrtp",
        "ALp_pUmPFqac",
        "3tBz6K3TuTBK",
        "sKeXZP_4xuM9",
        "dqIzvdT9mGkJ",
        "G9PwTTMDB1v7",
        "xUyzcH4XP1Cz"
      ],
      "toc_visible": true,
      "authorship_tag": "ABX9TyMIgEPD8f2TgQTfhf5c5xSR",
      "include_colab_link": true
    },
    "kernelspec": {
      "name": "python3",
      "display_name": "Python 3"
    }
  },
  "cells": [
    {
      "cell_type": "markdown",
      "metadata": {
        "id": "view-in-github",
        "colab_type": "text"
      },
      "source": [
        "<a href=\"https://colab.research.google.com/github/Alireza-Amani/SVS/blob/master/SVS.ipynb\" target=\"_parent\"><img src=\"https://colab.research.google.com/assets/colab-badge.svg\" alt=\"Open In Colab\"/></a>"
      ]
    },
    {
      "cell_type": "markdown",
      "metadata": {
        "id": "6khkrUBeaipf",
        "colab_type": "text"
      },
      "source": [
        "**INCOMPLETE**"
      ]
    },
    {
      "cell_type": "markdown",
      "metadata": {
        "id": "jotpihO9PwDm",
        "colab_type": "text"
      },
      "source": [
        "**Soil, Vegetation, and Snow**\n",
        "\n",
        "\n",
        "\n",
        "if you are using google colab make sure you are connected to the \"**local runtime**\"\n"
      ]
    },
    {
      "cell_type": "code",
      "metadata": {
        "id": "awJH5y4W-JXr",
        "colab_type": "code",
        "colab": {
          "base_uri": "https://localhost:8080/",
          "height": 85
        },
        "outputId": "8417903a-369f-4be9-ddac-4c78e419986a"
      },
      "source": [
        "import numpy as np\n",
        "\n",
        "%xmode Verbose\n",
        "\n",
        "%cd /Users/alireza_amani/Google Drive/Colab Notebooks/\n",
        "from font_output import increase_font, font\n",
        "increase_font()\n",
        "font()\n",
        "\n",
        "%cd /Users/alireza_amani/Google Drive/svs/run_cdp\n"
      ],
      "execution_count": 1,
      "outputs": [
        {
          "output_type": "stream",
          "text": [
            "Exception reporting mode: Verbose\n",
            "/Users/alireza_amani/Google Drive/Colab Notebooks\n"
          ],
          "name": "stdout"
        },
        {
          "output_type": "display_data",
          "data": {
            "text/plain": [
              "<IPython.core.display.Javascript object>"
            ],
            "application/javascript": [
              "\n",
              "  for (rule of document.styleSheets[0].cssRules){\n",
              "    if (rule.selectorText=='body') {\n",
              "      rule.style.fontSize = '19px'\n",
              "      break\n",
              "    }\n",
              "  }\n",
              "  "
            ]
          },
          "metadata": {
            "tags": []
          }
        },
        {
          "output_type": "stream",
          "text": [
            "/Users/alireza_amani/Google Drive/svs/run_cdp\n"
          ],
          "name": "stdout"
        }
      ]
    },
    {
      "cell_type": "markdown",
      "metadata": {
        "id": "cPAEeXRbNR4I",
        "colab_type": "text"
      },
      "source": [
        "### allow local connection"
      ]
    },
    {
      "cell_type": "code",
      "metadata": {
        "id": "JIZ00E2cNW50",
        "colab_type": "code",
        "colab": {
          "base_uri": "https://localhost:8080/"
        },
        "outputId": "d26be0b4-1bde-4781-f211-6dd9d06dda98"
      },
      "source": [
        "# run this line in terminal\n",
        "jupyter notebook --NotebookApp.allow_origin='https://colab.research.google.com' --NotebookApp.port_retries=0 --notebook-dir=\"\" --no-browser --allow-root --NotebookApp.token='' --NotebookApp.disable_check_xsrf=True --port=8888\n",
        "\n"
      ],
      "execution_count": null,
      "outputs": [
        {
          "output_type": "error",
          "ename": "SyntaxError",
          "evalue": "ignored",
          "traceback": [
            "\u001b[0;36m  File \u001b[0;32m\"<ipython-input-2-1b8415f254d5>\"\u001b[0;36m, line \u001b[0;32m2\u001b[0m\n\u001b[0;31m    jupyter notebook --NotebookApp.allow_origin='https://colab.research.google.com' --NotebookApp.port_retries=0 --notebook-dir=\"\" --no-browser --allow-root --NotebookApp.token='' --NotebookApp.disable_check_xsrf=True --port=8888\u001b[0m\n\u001b[0m                   ^\u001b[0m\n\u001b[0;31mSyntaxError\u001b[0m\u001b[0;31m:\u001b[0m invalid syntax\n"
          ]
        }
      ]
    },
    {
      "cell_type": "markdown",
      "metadata": {
        "id": "NwFYPA4x2W8n",
        "colab_type": "text"
      },
      "source": [
        "## Documentation"
      ]
    },
    {
      "cell_type": "markdown",
      "metadata": {
        "id": "0_-Q2q7r-V5W",
        "colab_type": "text"
      },
      "source": [
        "The netcdf file covers a grid of 11*11 points at 2.5 km resolution around Drummondville. It consists of short-range forecasts (+7 to +12) from the HRDPS (High Resolution Deterministic Prediction System) combined together to form a continuous atmospheric forcing. I also included HRDPS precipitation adjusted using the CaPA precipitation analysis. This is the precipitation variable that you should use.\n",
        "\n",
        " \n",
        "\n",
        "The netcdf file contains the following variables at an hourly time step:\n",
        "\n",
        "·       FB: incoming shortwave radiation (W/m2)\n",
        "\n",
        "·       FI: incoming longwave radiation (W/m2)\n",
        "\n",
        "·       TT: 2-m air temperature (deg C)\n",
        "\n",
        "·       HU: 2-m specific humidity (kg/kg)\n",
        "\n",
        "·       UV: 10-m wind speed (m/s)\n",
        "\n",
        "·       P0: surface pressure (hPa)\n",
        "\n",
        "·       PR: total precipitation from HRDPS (mm/h)\n",
        "\n",
        "·       PR_CaPA: : total precipitation from HRDPS adjusted using the 6-h CaPA analysis (mm/h)\n",
        "\n",
        "·       lat: latitude (deg)\n",
        "\n",
        "·       lon: longitude (deg)\n",
        "\n",
        "·       Elevation: Elevation of the grid points (m)\n",
        "\n",
        "\n",
        "\n",
        "Col1: hour\n",
        "Col2: Minutes\n",
        "\n",
        "\n",
        "\n",
        "* Col3: Julian day\n",
        "*  Col4: Year\n",
        "* Col5: Incoming SW radiation (W/m2)\n",
        "*  Col6: Incoming LW radiation (W/m2)\n",
        "*  Col7: Total precipitation rate (kg/m2/s)\n",
        "* Col8: 2m air temperature (Deg C)\n",
        "*  Col9: Specific humidity (kg/kg)\n",
        "* Col10: Wind Speed (m/s)\n",
        "*  Col11: Air Pressure (Pa)\n",
        "*  Col 12: Rainfall rate (kg/m2/s); Optional\n",
        "*  Col 13: Snowfall rate (kg/m2/s); Optional\n",
        "\n",
        "\n",
        "\n"
      ]
    },
    {
      "cell_type": "markdown",
      "metadata": {
        "id": "Bxp5cAtR-t2P",
        "colab_type": "text"
      },
      "source": [
        "Our site:  \n",
        "\n",
        "Saint-Nicéphore\n",
        "Drummondville, QC\n",
        "\n",
        "lat: 45.82, lon: 287.63 (-72.37)\n"
      ]
    },
    {
      "cell_type": "markdown",
      "metadata": {
        "id": "-0Qobet9Bu-t",
        "colab_type": "text"
      },
      "source": [
        ""
      ]
    },
    {
      "cell_type": "markdown",
      "metadata": {
        "id": "8vLi948TCM_N",
        "colab_type": "text"
      },
      "source": [
        "### A function to convert lists to strings"
      ]
    },
    {
      "cell_type": "code",
      "metadata": {
        "id": "-nqKx75oCNmD",
        "colab_type": "code",
        "colab": {
          "base_uri": "https://localhost:8080/",
          "height": 17
        },
        "outputId": "75d22506-b30c-456d-f3a2-70169820efc4"
      },
      "source": [
        "# f\"{0.0015 :.3e}\"\n",
        "\n",
        "def list2str(my_lists, f=None, new_line = True):\n",
        "\n",
        "  '''\n",
        "  'Give me your lists, I ll give you my world' George C. Scotch\n",
        "\n",
        "  '''\n",
        "\n",
        "  num_lists = len(my_lists)\n",
        "\n",
        "\n",
        "  space = 5*' '\n",
        "  nl = '\\n'\n",
        "  tab = '\\t'\n",
        "  string = ''\n",
        "\n",
        "  for l1 in range(num_lists):\n",
        "    L = len(my_lists[l1])\n",
        "\n",
        "    for i1 in range(L):\n",
        "\n",
        "      if f == 'e':\n",
        "        string += f\"{my_lists[l1][i1] : .3e}\" + space   \n",
        "      elif f == 'f':\n",
        "        string += f\"{my_lists[l1][i1] : .3e}\" + space\n",
        "      elif f == 'd':\n",
        "        string += f\"{int(my_lists[l1][i1]) : d}\" + space\n",
        "\n",
        "      elif f ==None:\n",
        "        string += f\"{my_lists[l1][i1]}\" + space\n",
        "      else:\n",
        "        print('''Please choose between \"e\", \"f\", and \"d\" ''')\n",
        "\n",
        "    string +=  tab  \n",
        "  \n",
        "    \n",
        "  \n",
        "  string = string[:-5]\n",
        "  string += (nl * new_line)\n",
        "\n",
        "  return string\n",
        "\n",
        "\n",
        "\n"
      ],
      "execution_count": 56,
      "outputs": [
        {
          "output_type": "display_data",
          "data": {
            "text/plain": [
              "<IPython.core.display.Javascript object>"
            ],
            "application/javascript": [
              "\n",
              "  for (rule of document.styleSheets[0].cssRules){\n",
              "    if (rule.selectorText=='body') {\n",
              "      rule.style.fontSize = '19px'\n",
              "      break\n",
              "    }\n",
              "  }\n",
              "  "
            ]
          },
          "metadata": {
            "tags": []
          }
        }
      ]
    },
    {
      "cell_type": "code",
      "metadata": {
        "id": "F4bQOfp853ll",
        "colab_type": "code",
        "colab": {
          "base_uri": "https://localhost:8080/",
          "height": 40
        },
        "outputId": "c126883d-1cde-4c3e-89c7-e5f135a1df8c"
      },
      "source": [
        ""
      ],
      "execution_count": 55,
      "outputs": [
        {
          "output_type": "display_data",
          "data": {
            "text/plain": [
              "<IPython.core.display.Javascript object>"
            ],
            "application/javascript": [
              "\n",
              "  for (rule of document.styleSheets[0].cssRules){\n",
              "    if (rule.selectorText=='body') {\n",
              "      rule.style.fontSize = '19px'\n",
              "      break\n",
              "    }\n",
              "  }\n",
              "  "
            ]
          },
          "metadata": {
            "tags": []
          }
        },
        {
          "output_type": "execute_result",
          "data": {
            "text/plain": [
              "''"
            ]
          },
          "metadata": {
            "tags": []
          },
          "execution_count": 55
        }
      ]
    },
    {
      "cell_type": "markdown",
      "metadata": {
        "id": "ru_DjdYsB78Z",
        "colab_type": "text"
      },
      "source": [
        "## MESH_parameters_CLASS.ini"
      ]
    },
    {
      "cell_type": "markdown",
      "metadata": {
        "id": "dedjM9YUmfvc",
        "colab_type": "text"
      },
      "source": [
        "### Time to tell me your story line by line"
      ]
    },
    {
      "cell_type": "code",
      "metadata": {
        "id": "1K6BIPWWpccs",
        "colab_type": "code",
        "colab": {}
      },
      "source": [
        "# run this cell \n",
        "your_story = lines = []\n",
        "nl = '\\n'"
      ],
      "execution_count": null,
      "outputs": []
    },
    {
      "cell_type": "markdown",
      "metadata": {
        "id": "briqkMEFmrZx",
        "colab_type": "text"
      },
      "source": [
        "#### Some general info\n",
        "\n",
        "Would not affect the SVS run, dont worry."
      ]
    },
    {
      "cell_type": "code",
      "metadata": {
        "id": "usBZA315n3g4",
        "colab_type": "code",
        "cellView": "both",
        "colab": {}
      },
      "source": [
        "#@title Ali\n",
        "mpc_title = \"My Pr #1\" #@param {type:\"string\"}\n",
        "# Title of your project\n",
        "mpc_title = \"Lysimeter 1 Project\"\n",
        "\n",
        "# Modeller \n",
        "mpc_name = \"Alireza\"\n",
        "\n",
        "# Location of your project\n",
        "mpc_place = \"Drummondville, Quebec\"\n",
        "\n",
        "\n",
        "\n",
        "\n",
        "# ----Dont change these---------\n",
        "\n",
        "line_1 =  mpc_title + nl\n",
        "line_2 = mpc_name + nl\n",
        "line_3 = (mpc_place) + nl\n",
        "\n",
        "lines.insert(0, line_1) \n",
        "lines.insert(1, line_2)\n",
        "lines.insert(2, line_3)\n"
      ],
      "execution_count": null,
      "outputs": []
    },
    {
      "cell_type": "markdown",
      "metadata": {
        "id": "ZkCmV8oBUrtp",
        "colab_type": "text"
      },
      "source": [
        "#### Some meteo info "
      ]
    },
    {
      "cell_type": "code",
      "metadata": {
        "id": "3oSi9JlZVQTW",
        "colab_type": "code",
        "colab": {}
      },
      "source": [
        "# Latitude of your site (deg)\n",
        "mpc_latitude = [45.82]\n",
        "\n",
        "# Longitude (deg)\n",
        "mpc_longitude = [-72.37]\n",
        "\n",
        "# Reference height for wind speed (m)\n",
        "mpc_wind_height = [10]\n",
        "\n",
        "# Reference height (measurement height) for temperature and humidity\t(m)\n",
        "mpc_temp_humid_height = [2]\n",
        "\n",
        "# Height into the atmosphere for aggregating surface roughness (usually in the order of 50-100 m)\t\n",
        "mpc_mixing = [50]\n",
        "\n",
        "# Ground cover flag; set to -1.0 if the GRUs in the file represent a \"land surface\"\t\n",
        "mpc_cover = [-1]  \n",
        "\n",
        "# just set it to 1\n",
        "mpc_ILW = [1] \n",
        "\n",
        "# Number of grid-cells in the basin -- in point-scale mode it must be 1. \n",
        "mpc_grids = [1] \n",
        "\n",
        "# Number of GRUs in the basin -- (Curious? GRU: grouped response units)\n",
        "mpc_gru = [1] \n",
        "\n",
        "\n",
        "\n",
        "# ----Dont change these-------------------------------------------------------------\n",
        "line_4 = list2str([mpc_latitude, mpc_longitude, mpc_wind_height, \n",
        "                   mpc_temp_humid_height, mpc_mixing, \n",
        "                   mpc_cover, mpc_ILW, mpc_grids, mpc_gru\n",
        "                   ])\n",
        "\n",
        "lines.insert(3, line_4)\n"
      ],
      "execution_count": null,
      "outputs": []
    },
    {
      "cell_type": "markdown",
      "metadata": {
        "id": "gs4y0OnGY1lk",
        "colab_type": "text"
      },
      "source": [
        "#### Some vegetative info"
      ]
    },
    {
      "cell_type": "markdown",
      "metadata": {
        "id": "lmT3zG0RFx-O",
        "colab_type": "text"
      },
      "source": [
        "remember this order for all of the vector parameters below:\n",
        "\n",
        "1. Needleleef trees \n",
        "2. Braodleaf trees \n",
        "3. Crops \n",
        "4. Grass\n",
        "5. Urban, barren land, or impervious areas\n",
        "\n",
        "parameter_1 = smthin about * [Needle trees, Broad trees, Crops, Grass, Urban] \n",
        "\n",
        "* If for example the fraction of Broad trees occupying your grid-cell is 0, then all of the related parameters could be assigned 0. "
      ]
    },
    {
      "cell_type": "code",
      "metadata": {
        "id": "pefaZs5k6rBy",
        "colab_type": "code",
        "cellView": "code",
        "colab": {}
      },
      "source": [
        "# Annual maximum fraction of the grid-cell occupied by vegetation category or land cover\n",
        "mpc_veg_cat = [0, 0, 0, 1, 0]\n",
        "\n",
        "\n",
        "# Annual maximum leaf-area index of the vegetation category -- mind that we dont \n",
        "# ...care about category 5 here\n",
        "mpc_leaf_ind = [0, 0, 0, 3.5]\n",
        "\n",
        "\n",
        "# Natural logarithm of the roughness length of the vegetation category or land cover\t\n",
        "mpc_log_rough = [0, 0, 0, -2.5, 0]\n",
        "\n",
        "\n",
        "# Annual minimum leaf-area index of the vegetation category -- again not defined \n",
        "# ...for category 5 \n",
        "mpc_min_leaf = [0, 0, 0, 3.5]\n",
        "\n",
        "\n",
        "# Average visible albedo of the vegetation category when fully-leafed or of the land cover\n",
        "mpc_visible_albedo = [0, 0, 0, 0.055, 0]\n",
        "\n",
        "\n",
        "# Annual maximum canopy mass of the vegetation category (kg/m2)\n",
        "mpc_max_canopy_mass = [0, 0, 0, 2]\n",
        "\n",
        "\n",
        "# Average near-infrared albedo of the vegetation category when fully-leafed or of \n",
        "# ...the land cover\t\n",
        "mpc_NIR_albedo = [0, 0, 0, 0.325, 0]\n",
        "\n",
        "\n",
        "# Annual maximum rooting depth of the vegetation category\t(m)\n",
        "mpc_max_root = [0, 0, 0, 1.2]\n",
        "\n",
        "\n",
        "# Minimum stomatal resistance of the vegetation category\t (s/m: Siemens per meter)\n",
        "mpc_min_stoma = [0, 0, 0, 100]\n",
        "\n",
        "\n",
        "# Reference value of shortwave radiation used in the calculation of the stomatal \n",
        "# ...resistance of the vegetation category (W/m2)\n",
        "mpc_sw_stoma = [0, 0, 0, 30]\n",
        "\n",
        "\n",
        "# Vapor pressure deficit coefficient 'A' used in the calculation of the stomatal resistance\n",
        "# ...of the vegetation category\t\n",
        "mpc_vapor_A = [0, 0, 0, 0.5]\n",
        "\n",
        "\n",
        "# Vapor pressure deficit coefficient 'B' used in the calculation of the stomatal resistance \n",
        "# ...of the vegetation category\t\n",
        "mpc_vapor_B = [0, 0, 0, 1]\n",
        "\n",
        "\n",
        "# Soil moisture suction coefficient 'A' used in the calculation of the stomatal resistance\n",
        "# ...of the vegetation category\t\n",
        "mpc_suction_A = [0, 0, 0, 100]\n",
        "\n",
        "\n",
        "# Soil moisture suction coefficient 'B' used in the calculation of the stomatal resistance \n",
        "# ...of the vegetation category\t\n",
        "mpc_suction_B = [0, 0, 0, 5]\n",
        "\n",
        "\n",
        "\n",
        "# ---------------------------------Dont change these--------------------------------\n",
        "\n",
        "\n",
        "line_5 = list2str([mpc_veg_cat, mpc_leaf_ind])\n",
        "line_6 = list2str([mpc_log_rough, mpc_min_leaf])\n",
        "line_7 = list2str([mpc_visible_albedo, mpc_max_canopy_mass])\n",
        "line_8 = list2str([mpc_NIR_albedo, mpc_max_root])\n",
        "line_9 = list2str([mpc_min_stoma, mpc_sw_stoma])\n",
        "line_10 = list2str([mpc_vapor_A, mpc_vapor_B])\n",
        "line_11 = list2str([mpc_suction_A, mpc_suction_B])\n",
        "\n",
        "\n",
        "lines.insert(4, line_5)\n",
        "lines.insert(5, line_6)\n",
        "lines.insert(6, line_7)\n",
        "lines.insert(7, line_8)\n",
        "lines.insert(8, line_9)\n",
        "lines.insert(9, line_10)\n",
        "lines.insert(10, line_11)\n"
      ],
      "execution_count": null,
      "outputs": []
    },
    {
      "cell_type": "markdown",
      "metadata": {
        "id": "ALp_pUmPFqac",
        "colab_type": "text"
      },
      "source": [
        "#### Surface and Hydrauli Parameters"
      ]
    },
    {
      "cell_type": "code",
      "metadata": {
        "id": "Y-FVbI8_oL6t",
        "colab_type": "code",
        "colab": {}
      },
      "source": [
        "# Active fraction of the grid cell; dummy - just set it to 1 \n",
        "mpc_active_frac = [1]  \n",
        "\n",
        "\n",
        "# Set the mosaic tile ID > 0\n",
        "mpc_mosaic_id = [1]\n",
        "\n",
        "\n",
        "# Drainage index controls if water is allowed to seep from the bottom of the soil column\n",
        "# a value of 1.0 allows this water to leave as baseflow; A fraction between zero and 1.0\n",
        "# ...can be used to allow only a partial contribution of this water to baseflow.\n",
        "mpc_drain_index = [1] \n",
        "\n",
        "\n",
        "# Permeable depth of the soil column (m)\n",
        "mpc_permeable_depth = [4.1]\n",
        "\n",
        "\n",
        "# Estimated drainage density of the GRU (km / km2)\n",
        "mpc_drain_density = [50]\n",
        "\n",
        "\n",
        "# Estimated average slope of the GRU\n",
        "mpc_gru_slope = [0.03]\n",
        "\n",
        "\n",
        "# Fraction of the saturated surface soil conductivity moving in the horizontal direction\n",
        "mpc_hor_cond = [0.01]\n",
        "\n",
        "\n",
        "# Manning's 'n'\n",
        "mpc_Manning = [0.02]\n",
        "\n",
        "\n",
        "# Saturated surface soil conductivity\n",
        "mpc_sat_cond = [0.0015]\n",
        "\n",
        "\n",
        "\n",
        "# ------------------------------------Let them be----------------------------------\n",
        "line_13 = list2str([mpc_gru_slope, mpc_hor_cond, mpc_Manning,\n",
        "                    mpc_sat_cond, mpc_mosaic_id])\n",
        "line_12 = list2str([mpc_drain_index, mpc_permeable_depth, \n",
        "                    mpc_active_frac,\n",
        "                    mpc_drain_density])\n",
        "\n",
        "lines.insert(12, line_13)\n",
        "lines.insert(11, line_12)"
      ],
      "execution_count": null,
      "outputs": []
    },
    {
      "cell_type": "markdown",
      "metadata": {
        "id": "3tBz6K3TuTBK",
        "colab_type": "text"
      },
      "source": [
        "#### Soil Texture Parameters\n"
      ]
    },
    {
      "cell_type": "code",
      "metadata": {
        "id": "Vcxm11YduW7q",
        "colab_type": "code",
        "colab": {}
      },
      "source": [
        "# number of soil layers are considered to be 7 -- we ll deal with it later \n",
        "\n",
        "# Percent content of sand in the mineral soil\n",
        "mpc_layers_sandy = [70, 70, 70, 70, 70, 70, 70]\n",
        "\n",
        "\n",
        "# Percent content of clay in the mineral soil\t\n",
        "mpc_layers_clay = [30, 30, 30, 30, 30, 30, 30]\n",
        "\n",
        "\n",
        "# Percent content of organic matter in the mineral soil\t\n",
        "mpc_layers_org = [0, 0, 0, 0, 0, 0, 0]\n",
        "\n",
        "\n",
        "\n",
        "# ----------------- /_ ! _\\------------------------------------------------------\n",
        "line_14 = list2str([ mpc_layers_sandy])\n",
        "line_15 = list2str([mpc_layers_clay])\n",
        "line_16 = list2str([mpc_layers_org])\n",
        "\n",
        "lines.insert(13, line_14)\n",
        "lines.insert(14, line_15)\n",
        "lines.insert(15, line_16)"
      ],
      "execution_count": null,
      "outputs": []
    },
    {
      "cell_type": "markdown",
      "metadata": {
        "id": "sKeXZP_4xuM9",
        "colab_type": "text"
      },
      "source": [
        "#### Initial Prognostic (state) Values\n"
      ]
    },
    {
      "cell_type": "code",
      "metadata": {
        "id": "872x0p3Fxxf8",
        "colab_type": "code",
        "colab": {}
      },
      "source": [
        "# Temperature of the soil layers -- all temps in deg C\n",
        "mpc_layers_temp = [15, 15, 15, 15, 15, 15, 15 ]\n",
        "\n",
        "\n",
        "# Air temperature of the canopy\t\n",
        "mpc_canopy_temp = [15]\n",
        "\n",
        "\n",
        "# Temperature of the snow mass present on the ground surface; 0.0 if no such mass exists\n",
        "mpc_snow_temp = [0]\n",
        "\n",
        "\n",
        "# Temperature of the liquid water stored on the ground surface; 0.0 if no such storage exists\t\n",
        "mpc_water_temp = [0]\n",
        "\n",
        "\n",
        "# Volumetric liquid water content stored in the soil layers (m3 / m3)\n",
        "mpc_layers_moisture = [0.2, 0.2, 0.2, 0.2, 0.2, 0.2, 0.2]\n",
        "\n",
        "\n",
        "# Volumetric frozen water content stored in the soil\t(m3 / m3)\n",
        "mpc_layers_frozen = [0, 0, 0, 0, 0, 0, 0]\n",
        "\n",
        "\n",
        "# Depth of liquid water stored on the ground surface\t(m)\n",
        "mpc_water_depth = [0]\n",
        "\n",
        "\n",
        "# Liquid water component of precipitation held on the vegetation canopy\t(kg/m2)\n",
        "mpc_precip_canopy = [0]\n",
        "\n",
        "\n",
        "# Frozen water component of precipitation held on the vegetation canopy\t(kg/m2)\n",
        "mpc_frozen_canopy = [0]\n",
        "\n",
        "\n",
        "# Snow mass present on the ground surface\t(kg/m2)\n",
        "mpc_snow_ground = [0]\n",
        "\n",
        "\n",
        "# Albedo of the snow mass present on the ground surface; 0.0 is no such mass exists\t\n",
        "mpc_albedo_snow = [0]\n",
        "\n",
        "\n",
        "# Density of the snow mass present on the ground surface; 0.0 if no such mass exists\t(kg/m3)\n",
        "mpc_density_snow = [0]\n",
        "\n",
        "\n",
        "# Set to 0.0 before leaf-out; 1.0 when fully-leafed; \n",
        "# ...or estimate the growth index with a fraction if in between\n",
        "mpc_gro_index = [1]\n",
        "\n",
        "\n",
        "\n",
        "# ------------------------- < ! >-----------------------------------------------------\n",
        "line_17 = list2str([mpc_layers_temp, mpc_canopy_temp,\n",
        "                    mpc_snow_temp, mpc_water_temp])\n",
        "line_18 = list2str([mpc_layers_moisture, mpc_layers_frozen,\n",
        "                    mpc_water_depth])\n",
        "line_19 = list2str([mpc_precip_canopy, mpc_frozen_canopy,\n",
        "                    mpc_snow_ground, mpc_albedo_snow,\n",
        "                    mpc_density_snow, mpc_gro_index])\n",
        "\n",
        "\n",
        "lines.insert(16, line_17)\n",
        "lines.insert(17, line_18)\n",
        "lines.insert(18, line_19)"
      ],
      "execution_count": null,
      "outputs": []
    },
    {
      "cell_type": "markdown",
      "metadata": {
        "id": "TvfoQkUxz9mD",
        "colab_type": "text"
      },
      "source": [
        "#### Dates"
      ]
    },
    {
      "cell_type": "code",
      "metadata": {
        "id": "VTaHN00QDcNh",
        "colab_type": "code",
        "colab": {}
      },
      "source": [
        "# not used, but 4x integer values are required\n",
        "mpc_date_dummy = [1, 1, 1, 1]\n",
        "\n",
        "\n",
        "# not used, but 4x integer values are required\n",
        "mpc_date_dumby = [1915, 1917, 1949, 1886]\n",
        "\n",
        "\n",
        "# Hour, minute, day_of_year, year \n",
        "# ...of the first record of data in the meteorological input files\n",
        "mpc_date_start = [7, 0, 244 ,2018]\n",
        "\n",
        "\n",
        "# ------------------------ < no no > --------------------------\n",
        "line_20 = list2str([mpc_date_dummy])\n",
        "line_21 = list2str([mpc_date_dumby])\n",
        "line_22 = list2str([mpc_date_start])\n",
        "\n",
        "lines.insert(19, line_20)\n",
        "lines.insert(20, line_21)\n",
        "lines.insert(21, line_22)"
      ],
      "execution_count": null,
      "outputs": []
    },
    {
      "cell_type": "code",
      "metadata": {
        "id": "GfOv5PnpQsx9",
        "colab_type": "code",
        "colab": {}
      },
      "source": [
        "# make it a function later \n",
        "# not all of them should be written in .3e ! Dumbo \n",
        "with open(\"my_met.ini\", 'w') as output:\n",
        "  for i1 in range(22): \n",
        "    output.write(lines[i1])"
      ],
      "execution_count": null,
      "outputs": []
    },
    {
      "cell_type": "markdown",
      "metadata": {
        "id": "dqIzvdT9mGkJ",
        "colab_type": "text"
      },
      "source": [
        "## MESH_input_run_options"
      ]
    },
    {
      "cell_type": "markdown",
      "metadata": {
        "id": "1WGsohADfhxi",
        "colab_type": "text"
      },
      "source": [
        " [See on MESH website ](https://wiki.usask.ca/display/MESH/MESH_input_run_options.ini)"
      ]
    },
    {
      "cell_type": "code",
      "metadata": {
        "id": "5-uaS24Tfyuy",
        "colab_type": "code",
        "colab": {
          "base_uri": "https://localhost:8080/",
          "height": 608
        },
        "outputId": "7eceda73-128b-4c7d-a796-bb2f8d14f70e"
      },
      "source": [
        "with open('MESH_input_run_options.ini') as f:\n",
        "  file = f.readlines()\n",
        "\n",
        "file[:]"
      ],
      "execution_count": 2,
      "outputs": [
        {
          "output_type": "display_data",
          "data": {
            "text/plain": [
              "<IPython.core.display.Javascript object>"
            ],
            "application/javascript": [
              "\n",
              "  for (rule of document.styleSheets[0].cssRules){\n",
              "    if (rule.selectorText=='body') {\n",
              "      rule.style.fontSize = '19px'\n",
              "      break\n",
              "    }\n",
              "  }\n",
              "  "
            ]
          },
          "metadata": {
            "tags": []
          }
        },
        {
          "output_type": "execute_result",
          "data": {
            "text/plain": [
              "['MESH run options input file\\n',\n",
              " '##### Control Flags #####\\n',\n",
              " '----#\\n',\n",
              " '    8 # Number of control flags\\n',\n",
              " 'HOURLYFLAG            60\\n',\n",
              " 'BASINFORCINGFLAG      met rr_sr\\n',\n",
              " 'SHDFILEFLAG            2\\n',\n",
              " 'IWF                    1\\n',\n",
              " 'SOILINIFLAG            0\\n',\n",
              " 'RUNMODE                  runsvs noroute\\n',\n",
              " 'DIAGNOSEMODE           1\\n',\n",
              " 'TIMESTEPFLAG           5\\n',\n",
              " '##### Output Grid selection #####\\n',\n",
              " '----#\\n',\n",
              " '    1 # Number of output grid points (5 points maximum)\\n',\n",
              " '---------#\\n',\n",
              " '         1 #1 Grid number\\n',\n",
              " '         1 #2 Land class\\n',\n",
              " 'test_svs          #3 Output directory\\n',\n",
              " '##### Output Directory #####\\n',\n",
              " '---------#\\n',\n",
              " 'test_svs          # Output Directory for total-basin files\\n',\n",
              " '##### Simulation Run Times #####\\n',\n",
              " '---#---#---#---#\\n',\n",
              " '   1995   300   0   0 # Start year, day, hour, minute\\n',\n",
              " '   1995   350   0   0 # Stop year, day, hour, minute\\n']"
            ]
          },
          "metadata": {
            "tags": []
          },
          "execution_count": 2
        }
      ]
    },
    {
      "cell_type": "markdown",
      "metadata": {
        "id": "gHg40q_WvFzo",
        "colab_type": "text"
      },
      "source": [
        "### Specify"
      ]
    },
    {
      "cell_type": "code",
      "metadata": {
        "id": "g_zQSLzQEk8M",
        "colab_type": "code",
        "cellView": "code",
        "colab": {
          "base_uri": "https://localhost:8080/",
          "height": 17
        },
        "outputId": "fc3b68c5-f42d-44e7-8a1c-09b35d950dcd"
      },
      "source": [
        "input_lines = []\n",
        "\n",
        "line_1 = \"MESH run options input file\\n\"\n",
        "line_2 = \"##### Control Flags #####\\n\"\n",
        "line_3 = \"----#\\n\"\n",
        "line_4 = \"\\t# Number of control flags\\n \"\n",
        "line_13 = \"##### Output Grid selection #####\\n\"\n",
        "line_14 = \"----#\\n\"\n",
        "line_15 = \"\\t# Number of output grid points (5 points maximum)\\n\"\n",
        "line_16 = \"---------#\\n\"\n",
        "\n",
        "line_20 = \"##### Output Directory #####\\n\"\n",
        "line_21 = \"---------#\\n\"\n",
        "line_23 = \"##### Simulation Run Times #####\\n\"\n",
        "line_24 = \"---#---#---#---#\\n\"\n"
      ],
      "execution_count": 33,
      "outputs": [
        {
          "output_type": "display_data",
          "data": {
            "text/plain": [
              "<IPython.core.display.Javascript object>"
            ],
            "application/javascript": [
              "\n",
              "  for (rule of document.styleSheets[0].cssRules){\n",
              "    if (rule.selectorText=='body') {\n",
              "      rule.style.fontSize = '19px'\n",
              "      break\n",
              "    }\n",
              "  }\n",
              "  "
            ]
          },
          "metadata": {
            "tags": []
          }
        }
      ]
    },
    {
      "cell_type": "code",
      "metadata": {
        "id": "vxM8-u7WwlHF",
        "colab_type": "code",
        "colab": {
          "base_uri": "https://localhost:8080/",
          "height": 40
        },
        "outputId": "9e265947-c60b-4aa5-fbfb-205a45fcd83a"
      },
      "source": [
        "flags[2]"
      ],
      "execution_count": 17,
      "outputs": [
        {
          "output_type": "display_data",
          "data": {
            "text/plain": [
              "<IPython.core.display.Javascript object>"
            ],
            "application/javascript": [
              "\n",
              "  for (rule of document.styleSheets[0].cssRules){\n",
              "    if (rule.selectorText=='body') {\n",
              "      rule.style.fontSize = '19px'\n",
              "      break\n",
              "    }\n",
              "  }\n",
              "  "
            ]
          },
          "metadata": {
            "tags": []
          }
        },
        {
          "output_type": "execute_result",
          "data": {
            "text/plain": [
              "'BASINFORCINGFLAG'"
            ]
          },
          "metadata": {
            "tags": []
          },
          "execution_count": 17
        }
      ]
    },
    {
      "cell_type": "code",
      "metadata": {
        "id": "q2BCRN9sJzWM",
        "colab_type": "code",
        "cellView": "code",
        "colab": {
          "base_uri": "https://localhost:8080/",
          "height": 17
        },
        "outputId": "228fdf3e-c885-44c6-d246-392bb2a45055"
      },
      "source": [
        "# number of control flags\n",
        "input_nflags = 8\n",
        "\n",
        "flags = []\n",
        "tabs = '\\t'\n",
        "nl = '\\n'\n",
        "\n",
        "# HOURLYFLAG  (half-hourly: 30, hourly: 60, ...)\n",
        "input_hourly_flag = 60 \n",
        "flags.insert(0, \"HOURLYFLAG\" + 3*tabs + str(input_hourly_flag) + nl )\n",
        "\n",
        "\n",
        "# BASINFORCINGFLAG control flag specifies the input format for driving data forcing \n",
        "# ...files, as well as details about the data.\n",
        "input_basin_fflag = \"met rr_sr\" \n",
        "flags.insert(1, \"BASINFORCINGFLAG\" + 2*tabs + str(input_basin_fflag) + nl)\n",
        "\n",
        "\n",
        "# the SHDFILEFLAG control flag specifies the basin information file format\n",
        "# 2: read from file MESH_parameters_CLASS.ini \n",
        "input_shd_flag = 2\n",
        "flags.insert(2, \"SHDFILEFLAG\" + 3*tabs + str(input_shd_flag) + nl )\n",
        "\n",
        "\n",
        "\n",
        "# If IWF = 0, only overland flow and baseflow are modelled, \n",
        "# ...and the ground surface slope is not modelled.\n",
        "# If IWF = 1, WATROF - calculations of overland flow and interflow are performed \n",
        "# ...based on approximations of Richards' equation.\n",
        "# If IWF = 2, PDMROF - surface runoff calculations for \"fill and spill\" processes in \n",
        "# ...the prairie pothole region.\n",
        "input_IWF = 1\n",
        "flags.insert(3, \"IWF\" + 5*tabs + str(input_IWF) + nl)\n",
        "\n",
        "\n",
        "\n",
        "# SOILINIFLAG: \n",
        "# if set to 0 soil percentage values will be read from MESH_parameters_CLASS.ini file\n",
        "# ...and MESH will stop if sum of soil percentages is greater than 100 %\n",
        "# for the rest of the options see the online documentation\n",
        "input_soil_flag = 0\n",
        "flags.insert(4, \"SOILINIFLAG\" + 3*tabs + str(input_soil_flag) + nl)\n",
        "\n",
        "\n",
        "\n",
        "\n",
        "# RUNMODE\n",
        "# for running svs in point mode\n",
        "input_run_mode = 'runsvs noroute'\n",
        "flags.insert(5, \"RUNMODE\" + 4*tabs + str(input_run_mode) + nl)\n",
        "\n",
        "# DIAGNOSEMODE:\n",
        "# can be optionally activated to print additional diagnostic information during the \n",
        "# ...initialization of the model to screen and to MESH_output_echo_print.txt.\n",
        "input_diag = \"on\"\n",
        "flags.insert(6, \"DIAGNOSEMODE\" + 3*tabs + str(input_diag) + nl)\n",
        "\n",
        "\n",
        "\n",
        "# TIMESTEPFLAG:\n",
        "# specifies the time-step in minutes used by the land surface scheme, in this case of SVS.\n",
        "input_time_step = 5\n",
        "flags.insert(7, \"TIMESTEPFLAG\" + 3*tabs + str(input_time_step) + nl)\n",
        "\n",
        "\n",
        "# Number of output grid points (5 points maximum)\n",
        "input_output_grids = 1\n",
        "\n",
        "# Grid number\n",
        "input_grid_no = 1\n",
        "input_grid_no = str(input_grid_no) + \"\\t #1 Grid number\\n\"\n",
        "\n",
        "# Land class\n",
        "input_land_class = 1\n",
        "input_land_class = str(input_land_class) + \"\\t#2 Land class\\n\"\n",
        "\n",
        "# Name of output folder\n",
        "input_out_folder = \"test_svs\"    \n",
        "input_out_folder = str(input_out_folder) + \"\\t#3 Output directory\\n\"\n",
        "\n",
        "\n",
        "# Simulation Run Times [Year, doy, hour, minute]\n",
        "# If all fields in the simulation start date are zero, the simulation will begin from the first frame of driving data\n",
        "# If all fields in the simulation stop date are zero, the simulation will run until it runs out of driving data\n",
        "\n",
        "input_start_date = [0, 0, 0, 0]\n",
        "input_start_date = list2str([input_start_date], new_line=False ) + \"\\t# Start year, day, hour, minute\\n\"\n",
        "\n",
        "\n",
        "input_end_date = [0, 0, 0, 0]\n",
        "input_end_date = list2str([input_end_date], new_line=False ) + \"\\t# Start year, day, hour, minute\\n\"\n"
      ],
      "execution_count": 58,
      "outputs": [
        {
          "output_type": "display_data",
          "data": {
            "text/plain": [
              "<IPython.core.display.Javascript object>"
            ],
            "application/javascript": [
              "\n",
              "  for (rule of document.styleSheets[0].cssRules){\n",
              "    if (rule.selectorText=='body') {\n",
              "      rule.style.fontSize = '19px'\n",
              "      break\n",
              "    }\n",
              "  }\n",
              "  "
            ]
          },
          "metadata": {
            "tags": []
          }
        }
      ]
    },
    {
      "cell_type": "code",
      "metadata": {
        "id": "gD5JyDBR5A7_",
        "colab_type": "code",
        "colab": {
          "base_uri": "https://localhost:8080/",
          "height": 40
        },
        "outputId": "81fe4b29-7190-4a7d-dbb2-a3d28d4800b1"
      },
      "source": [
        "list2str([input_end_date], new_line=False )"
      ],
      "execution_count": 57,
      "outputs": [
        {
          "output_type": "display_data",
          "data": {
            "text/plain": [
              "<IPython.core.display.Javascript object>"
            ],
            "application/javascript": [
              "\n",
              "  for (rule of document.styleSheets[0].cssRules){\n",
              "    if (rule.selectorText=='body') {\n",
              "      rule.style.fontSize = '19px'\n",
              "      break\n",
              "    }\n",
              "  }\n",
              "  "
            ]
          },
          "metadata": {
            "tags": []
          }
        },
        {
          "output_type": "execute_result",
          "data": {
            "text/plain": [
              "'0     0     0     0 '"
            ]
          },
          "metadata": {
            "tags": []
          },
          "execution_count": 57
        }
      ]
    },
    {
      "cell_type": "markdown",
      "metadata": {
        "id": "wp7xeVI8vA-7",
        "colab_type": "text"
      },
      "source": [
        "### Print into file"
      ]
    },
    {
      "cell_type": "code",
      "metadata": {
        "id": "xOIfbG2XtMdB",
        "colab_type": "code",
        "colab": {
          "base_uri": "https://localhost:8080/",
          "height": 1000
        },
        "outputId": "43b0413f-312d-4ef8-b59b-d68fd27a4bbb"
      },
      "source": [
        "input_lines = []\n",
        "\n",
        "input_lines.insert(0, line_1)\n",
        "input_lines.insert(1, line_2)\n",
        "input_lines.insert(2, line_3)\n",
        "input_lines.insert(3, (\n",
        "    str(input_nflags) + line_4\n",
        "))\n",
        "input_lines.insert(4 + len(flags), line_13)\n",
        "input_lines.insert(5 + len(flags), line_14)\n",
        "input_lines.insert(6 + len(flags),\n",
        "                   str(input_output_grids) + \n",
        "                   line_15)\n",
        "input_lines.insert(6 + len(flags), line_16)\n",
        "input_lines.insert(7 + len(flags), input_grid_no)\n",
        "input_lines.insert(8 + len(flags), input_land_class)\n",
        "input_lines.insert(9 + len(flags), input_out_folder)\n",
        "input_lines.insert(10 + len(flags), line_23)\n",
        "input_lines.insert(11 + len(flags), line_24)\n",
        "input_lines.insert(12 + len(flags), input_start_date)\n",
        "input_lines.insert(13 + len(flags), input_end_date)\n",
        "\n",
        "\n",
        "for f1 in range(4, 4 + len(flags)):\n",
        "  input_lines.insert(f1, flags[f1-4])\n",
        "\n",
        "\n",
        "rng = 18 + input_nflags\n",
        "for i1 in range(rng):\n",
        "\n",
        "  if i1 >= len(input_lines):\n",
        "    break\n",
        "\n",
        "  print(input_lines[i1])\n",
        "  \n",
        "\n",
        "\n",
        "with open(\"my_inirun.ini\", \"w\") as file:\n",
        "  file.writelines(input_lines)\n"
      ],
      "execution_count": 59,
      "outputs": [
        {
          "output_type": "display_data",
          "data": {
            "text/plain": [
              "<IPython.core.display.Javascript object>"
            ],
            "application/javascript": [
              "\n",
              "  for (rule of document.styleSheets[0].cssRules){\n",
              "    if (rule.selectorText=='body') {\n",
              "      rule.style.fontSize = '19px'\n",
              "      break\n",
              "    }\n",
              "  }\n",
              "  "
            ]
          },
          "metadata": {
            "tags": []
          }
        },
        {
          "output_type": "stream",
          "text": [
            "MESH run options input file\n",
            "\n",
            "##### Control Flags #####\n",
            "\n",
            "----#\n",
            "\n",
            "8\t# Number of control flags\n",
            " \n",
            "HOURLYFLAG\t\t\t60\n",
            "\n",
            "BASINFORCINGFLAG\t\tmet rr_sr\n",
            "\n",
            "SHDFILEFLAG\t\t\t2\n",
            "\n",
            "IWF\t\t\t\t\t1\n",
            "\n",
            "SOILINIFLAG\t\t\t0\n",
            "\n",
            "RUNMODE\t\t\t\trunsvs noroute\n",
            "\n",
            "DIAGNOSEMODE\t\t\ton\n",
            "\n",
            "TIMESTEPFLAG\t\t\t5\n",
            "\n",
            "##### Output Grid selection #####\n",
            "\n",
            "----#\n",
            "\n",
            "1\t# Number of output grid points (5 points maximum)\n",
            "\n",
            "---------#\n",
            "\n",
            "1\t #1 Grid number\n",
            "\n",
            "1\t#2 Land class\n",
            "\n",
            "test_svs\t#3 Output directory\n",
            "\n",
            "##### Simulation Run Times #####\n",
            "\n",
            "---#---#---#---#\n",
            "\n",
            "0     0     0     0 \t# Start year, day, hour, minute\n",
            "\n",
            "0     0     0     0 \t# Start year, day, hour, minute\n",
            "\n"
          ],
          "name": "stdout"
        }
      ]
    },
    {
      "cell_type": "code",
      "metadata": {
        "id": "BQ-jIfwIto7c",
        "colab_type": "code",
        "colab": {
          "base_uri": "https://localhost:8080/",
          "height": 40
        },
        "outputId": "9653d4f1-f351-4e32-d9f4-8527968f8a39"
      },
      "source": [
        "rng\n",
        "\n"
      ],
      "execution_count": 39,
      "outputs": [
        {
          "output_type": "display_data",
          "data": {
            "text/plain": [
              "<IPython.core.display.Javascript object>"
            ],
            "application/javascript": [
              "\n",
              "  for (rule of document.styleSheets[0].cssRules){\n",
              "    if (rule.selectorText=='body') {\n",
              "      rule.style.fontSize = '19px'\n",
              "      break\n",
              "    }\n",
              "  }\n",
              "  "
            ]
          },
          "metadata": {
            "tags": []
          }
        },
        {
          "output_type": "execute_result",
          "data": {
            "text/plain": [
              "26"
            ]
          },
          "metadata": {
            "tags": []
          },
          "execution_count": 39
        }
      ]
    },
    {
      "cell_type": "markdown",
      "metadata": {
        "id": "G9PwTTMDB1v7",
        "colab_type": "text"
      },
      "source": [
        "# 2. Preprocessing"
      ]
    },
    {
      "cell_type": "markdown",
      "metadata": {
        "id": "1m6P1y_V2cHf",
        "colab_type": "text"
      },
      "source": [
        "### procedures"
      ]
    },
    {
      "cell_type": "markdown",
      "metadata": {
        "id": "fVSwL6ao2cAV",
        "colab_type": "text"
      },
      "source": [
        ""
      ]
    },
    {
      "cell_type": "code",
      "metadata": {
        "id": "XpP_CPYmhxEp",
        "colab_type": "code",
        "colab": {}
      },
      "source": [
        "!pip install xarray"
      ],
      "execution_count": null,
      "outputs": []
    },
    {
      "cell_type": "code",
      "metadata": {
        "id": "dKOCu_u_bGn7",
        "colab_type": "code",
        "colab": {}
      },
      "source": [
        "# learn to change netcdf to ... \n",
        "import xarray as xr\n",
        "import pandas as pd\n",
        "import numpy as np\n",
        "from os import chdir\n",
        "chdir(\"/Users/alireza_amani/Google Drive/svs\")\n",
        "ds = xr.open_dataset('data.nc')\n",
        "df = ds.isel(rlat=1, rlon=0).to_dataframe()\n",
        "ds = ds.isel(rlat=1, rlon=0)\n"
      ],
      "execution_count": null,
      "outputs": []
    },
    {
      "cell_type": "code",
      "metadata": {
        "id": "hagcL1XqO35X",
        "colab_type": "code",
        "colab": {
          "base_uri": "https://localhost:8080/",
          "height": 35
        },
        "outputId": "53340841-de45-4265-e440-60c501273255"
      },
      "source": [
        "!pwd"
      ],
      "execution_count": null,
      "outputs": [
        {
          "output_type": "stream",
          "text": [
            "/Users/alireza_amani/Google Drive/svs\r\n"
          ],
          "name": "stdout"
        }
      ]
    },
    {
      "cell_type": "code",
      "metadata": {
        "id": "Sf0pdRl9OkPY",
        "colab_type": "code",
        "colab": {
          "base_uri": "https://localhost:8080/",
          "height": 348
        },
        "outputId": "dad2ec5b-e98b-4a41-b2f6-67f8523e71be"
      },
      "source": [
        "t = pd.DatetimeIndex(ds.time.values[:])\n",
        "\n",
        "\n",
        "\n",
        "df = pd.DataFrame({'Hour' : t.hour, \n",
        "                   'Minute' : t.minute,\n",
        "                   'DoY' : t.dayofyear,\n",
        "                   'Year' : t.year,\n",
        "                   'Shortwave radiation(W/m2)' : ds.FB,\n",
        "                   'Longwave radiation(W/m2)' : ds.FI,\n",
        "                   'Precipitation(mm/s)' : ds.PR_Capa/3600,\n",
        "                   'Air Temperature(Deg C)' : ds.TT,\n",
        "                   'Specific Humidity(kg/kg)' : ds.HU,\n",
        "                   'Wind Speed(m/s)' : ds.UV,\n",
        "                   'Air Pressure(Pa)' : ds.P0 * 100\n",
        "                   \n",
        "    })\n",
        "\n",
        "#\n",
        "\n",
        "\n",
        "df[['Hour', 'Minute', 'DoY', 'Year']] = df[['Hour', 'Minute', 'DoY', 'Year']].astype(int)\n",
        "np.savetxt('A.met', df.values, fmt='%d' )\n",
        "df.iloc[:10]"
      ],
      "execution_count": null,
      "outputs": [
        {
          "output_type": "execute_result",
          "data": {
            "text/plain": [
              "   Hour  Minute  DoY  Year  Shortwave radiation(W/m2)  \\\n",
              "0     7       0  244  2018                   0.000000   \n",
              "1     8       0  244  2018                   0.000000   \n",
              "2     9       0  244  2018                   0.000000   \n",
              "3    10       0  244  2018                   0.000000   \n",
              "4    11       0  244  2018                  30.726562   \n",
              "5    12       0  244  2018                 128.437500   \n",
              "6    13       0  244  2018                 325.171875   \n",
              "7    14       0  244  2018                 289.984375   \n",
              "8    15       0  244  2018                 160.717834   \n",
              "9    16       0  244  2018                 663.534424   \n",
              "\n",
              "   Longwave radiation(W/m2)  Precipitation(mm/s)  Air Temperature(Deg C)  \\\n",
              "0                347.651031         0.000000e+00               15.884445   \n",
              "1                338.809021         0.000000e+00               15.610794   \n",
              "2                344.996002         0.000000e+00               15.423340   \n",
              "3                365.339752         0.000000e+00               15.747437   \n",
              "4                391.235474         8.488893e-08               16.116043   \n",
              "5                390.689636         4.937119e-05               15.896500   \n",
              "6                380.664337         0.000000e+00               19.011703   \n",
              "7                403.438965         0.000000e+00               20.031494   \n",
              "8                407.063690         0.000000e+00               19.992691   \n",
              "9                379.160980         0.000000e+00               22.434906   \n",
              "\n",
              "   Specific Humidity(kg/kg)  Wind Speed(m/s)  Air Pressure(Pa)  \n",
              "0                  0.009314         2.924126     101365.164062  \n",
              "1                  0.009556         2.762109     101361.562500  \n",
              "2                  0.009557         2.771638     101364.359375  \n",
              "3                  0.009377         2.861111     101394.664062  \n",
              "4                  0.009523         2.689818     101452.890625  \n",
              "5                  0.010609         2.839005     101480.726562  \n",
              "6                  0.011539         2.819627     101391.085938  \n",
              "7                  0.011680         2.900766     101364.187500  \n",
              "8                  0.011487         2.942259     101378.781250  \n",
              "9                  0.012090         2.950494     101333.242188  "
            ],
            "text/html": [
              "<div>\n",
              "<style scoped>\n",
              "    .dataframe tbody tr th:only-of-type {\n",
              "        vertical-align: middle;\n",
              "    }\n",
              "\n",
              "    .dataframe tbody tr th {\n",
              "        vertical-align: top;\n",
              "    }\n",
              "\n",
              "    .dataframe thead th {\n",
              "        text-align: right;\n",
              "    }\n",
              "</style>\n",
              "<table border=\"1\" class=\"dataframe\">\n",
              "  <thead>\n",
              "    <tr style=\"text-align: right;\">\n",
              "      <th></th>\n",
              "      <th>Hour</th>\n",
              "      <th>Minute</th>\n",
              "      <th>DoY</th>\n",
              "      <th>Year</th>\n",
              "      <th>Shortwave radiation(W/m2)</th>\n",
              "      <th>Longwave radiation(W/m2)</th>\n",
              "      <th>Precipitation(mm/s)</th>\n",
              "      <th>Air Temperature(Deg C)</th>\n",
              "      <th>Specific Humidity(kg/kg)</th>\n",
              "      <th>Wind Speed(m/s)</th>\n",
              "      <th>Air Pressure(Pa)</th>\n",
              "    </tr>\n",
              "  </thead>\n",
              "  <tbody>\n",
              "    <tr>\n",
              "      <th>0</th>\n",
              "      <td>7</td>\n",
              "      <td>0</td>\n",
              "      <td>244</td>\n",
              "      <td>2018</td>\n",
              "      <td>0.000000</td>\n",
              "      <td>347.651031</td>\n",
              "      <td>0.000000e+00</td>\n",
              "      <td>15.884445</td>\n",
              "      <td>0.009314</td>\n",
              "      <td>2.924126</td>\n",
              "      <td>101365.164062</td>\n",
              "    </tr>\n",
              "    <tr>\n",
              "      <th>1</th>\n",
              "      <td>8</td>\n",
              "      <td>0</td>\n",
              "      <td>244</td>\n",
              "      <td>2018</td>\n",
              "      <td>0.000000</td>\n",
              "      <td>338.809021</td>\n",
              "      <td>0.000000e+00</td>\n",
              "      <td>15.610794</td>\n",
              "      <td>0.009556</td>\n",
              "      <td>2.762109</td>\n",
              "      <td>101361.562500</td>\n",
              "    </tr>\n",
              "    <tr>\n",
              "      <th>2</th>\n",
              "      <td>9</td>\n",
              "      <td>0</td>\n",
              "      <td>244</td>\n",
              "      <td>2018</td>\n",
              "      <td>0.000000</td>\n",
              "      <td>344.996002</td>\n",
              "      <td>0.000000e+00</td>\n",
              "      <td>15.423340</td>\n",
              "      <td>0.009557</td>\n",
              "      <td>2.771638</td>\n",
              "      <td>101364.359375</td>\n",
              "    </tr>\n",
              "    <tr>\n",
              "      <th>3</th>\n",
              "      <td>10</td>\n",
              "      <td>0</td>\n",
              "      <td>244</td>\n",
              "      <td>2018</td>\n",
              "      <td>0.000000</td>\n",
              "      <td>365.339752</td>\n",
              "      <td>0.000000e+00</td>\n",
              "      <td>15.747437</td>\n",
              "      <td>0.009377</td>\n",
              "      <td>2.861111</td>\n",
              "      <td>101394.664062</td>\n",
              "    </tr>\n",
              "    <tr>\n",
              "      <th>4</th>\n",
              "      <td>11</td>\n",
              "      <td>0</td>\n",
              "      <td>244</td>\n",
              "      <td>2018</td>\n",
              "      <td>30.726562</td>\n",
              "      <td>391.235474</td>\n",
              "      <td>8.488893e-08</td>\n",
              "      <td>16.116043</td>\n",
              "      <td>0.009523</td>\n",
              "      <td>2.689818</td>\n",
              "      <td>101452.890625</td>\n",
              "    </tr>\n",
              "    <tr>\n",
              "      <th>5</th>\n",
              "      <td>12</td>\n",
              "      <td>0</td>\n",
              "      <td>244</td>\n",
              "      <td>2018</td>\n",
              "      <td>128.437500</td>\n",
              "      <td>390.689636</td>\n",
              "      <td>4.937119e-05</td>\n",
              "      <td>15.896500</td>\n",
              "      <td>0.010609</td>\n",
              "      <td>2.839005</td>\n",
              "      <td>101480.726562</td>\n",
              "    </tr>\n",
              "    <tr>\n",
              "      <th>6</th>\n",
              "      <td>13</td>\n",
              "      <td>0</td>\n",
              "      <td>244</td>\n",
              "      <td>2018</td>\n",
              "      <td>325.171875</td>\n",
              "      <td>380.664337</td>\n",
              "      <td>0.000000e+00</td>\n",
              "      <td>19.011703</td>\n",
              "      <td>0.011539</td>\n",
              "      <td>2.819627</td>\n",
              "      <td>101391.085938</td>\n",
              "    </tr>\n",
              "    <tr>\n",
              "      <th>7</th>\n",
              "      <td>14</td>\n",
              "      <td>0</td>\n",
              "      <td>244</td>\n",
              "      <td>2018</td>\n",
              "      <td>289.984375</td>\n",
              "      <td>403.438965</td>\n",
              "      <td>0.000000e+00</td>\n",
              "      <td>20.031494</td>\n",
              "      <td>0.011680</td>\n",
              "      <td>2.900766</td>\n",
              "      <td>101364.187500</td>\n",
              "    </tr>\n",
              "    <tr>\n",
              "      <th>8</th>\n",
              "      <td>15</td>\n",
              "      <td>0</td>\n",
              "      <td>244</td>\n",
              "      <td>2018</td>\n",
              "      <td>160.717834</td>\n",
              "      <td>407.063690</td>\n",
              "      <td>0.000000e+00</td>\n",
              "      <td>19.992691</td>\n",
              "      <td>0.011487</td>\n",
              "      <td>2.942259</td>\n",
              "      <td>101378.781250</td>\n",
              "    </tr>\n",
              "    <tr>\n",
              "      <th>9</th>\n",
              "      <td>16</td>\n",
              "      <td>0</td>\n",
              "      <td>244</td>\n",
              "      <td>2018</td>\n",
              "      <td>663.534424</td>\n",
              "      <td>379.160980</td>\n",
              "      <td>0.000000e+00</td>\n",
              "      <td>22.434906</td>\n",
              "      <td>0.012090</td>\n",
              "      <td>2.950494</td>\n",
              "      <td>101333.242188</td>\n",
              "    </tr>\n",
              "  </tbody>\n",
              "</table>\n",
              "</div>"
            ]
          },
          "metadata": {
            "tags": []
          },
          "execution_count": 291
        }
      ]
    },
    {
      "cell_type": "code",
      "metadata": {
        "id": "f4Y6mh_w0xbi",
        "colab_type": "code",
        "colab": {
          "base_uri": "https://localhost:8080/",
          "height": 135
        },
        "outputId": "1ce6022e-7b2b-4a3f-ac54-950c287b53ab"
      },
      "source": [
        "ds['PR_Capa'].sel({\"Year\"}\n"
      ],
      "execution_count": null,
      "outputs": [
        {
          "output_type": "error",
          "ename": "SyntaxError",
          "evalue": "ignored",
          "traceback": [
            "\u001b[0;36m  File \u001b[0;32m\"<ipython-input-485-5853edfe1d6c>\"\u001b[0;36m, line \u001b[0;32m1\u001b[0m\n\u001b[0;31m    ds['PR_Capa'].sel()?\u001b[0m\n\u001b[0m                       ^\u001b[0m\n\u001b[0;31mSyntaxError\u001b[0m\u001b[0;31m:\u001b[0m invalid syntax\n"
          ]
        }
      ]
    },
    {
      "cell_type": "code",
      "metadata": {
        "id": "EaaHb522wVLe",
        "colab_type": "code",
        "colab": {
          "base_uri": "https://localhost:8080/",
          "height": 35
        },
        "outputId": "4612b08a-5cf9-41ee-83e9-80dfb50616ec"
      },
      "source": [
        "ds.time.values[0]"
      ],
      "execution_count": null,
      "outputs": [
        {
          "output_type": "execute_result",
          "data": {
            "text/plain": [
              "numpy.datetime64('2018-09-01T07:00:00.000000000')"
            ]
          },
          "metadata": {
            "tags": []
          },
          "execution_count": 500
        }
      ]
    },
    {
      "cell_type": "code",
      "metadata": {
        "id": "WH9QOArdGnOt",
        "colab_type": "code",
        "colab": {
          "base_uri": "https://localhost:8080/",
          "height": 35
        },
        "outputId": "621e83a4-6be7-45f3-ec59-12fd43a3292f"
      },
      "source": [
        "df.to_csv('basin_forcing.met', sep='\\t', header=None, index=None, mode='a')\n",
        "!pwd"
      ],
      "execution_count": null,
      "outputs": [
        {
          "output_type": "stream",
          "text": [
            "/Users/alireza_amani/Google Drive/svs\r\n"
          ],
          "name": "stdout"
        }
      ]
    },
    {
      "cell_type": "code",
      "metadata": {
        "id": "JBpz116QJfuP",
        "colab_type": "code",
        "colab": {}
      },
      "source": [
        "with open(\"/Users/alireza_amani/Google Drive/svs/basin_forcing.met\", 'a') as f:\n",
        "    f.write(df.to_string(header = False, index = False))"
      ],
      "execution_count": null,
      "outputs": []
    },
    {
      "cell_type": "code",
      "metadata": {
        "id": "-Ud9nWTa6BMg",
        "colab_type": "code",
        "colab": {
          "base_uri": "https://localhost:8080/",
          "height": 35
        },
        "outputId": "dca0c873-1903-4a75-b784-4e9537a53249"
      },
      "source": [
        "f = open('basin_forcing.met', 'r')\n",
        "lines = f.readlines()\n",
        "lines[1030]\n"
      ],
      "execution_count": null,
      "outputs": [
        {
          "output_type": "execute_result",
          "data": {
            "text/plain": [
              "'  23   0   316  1994    0.00  288.00 0.0000E+00    5.15 5.2880E-03    0.40   86382.00 0.0000E+00 0.0000E+00\\n'"
            ]
          },
          "metadata": {
            "tags": []
          },
          "execution_count": 339
        }
      ]
    },
    {
      "cell_type": "code",
      "metadata": {
        "id": "yiswGxEs-3_v",
        "colab_type": "code",
        "colab": {
          "base_uri": "https://localhost:8080/",
          "height": 35
        },
        "outputId": "8cbfcb09-998a-405c-bcb4-46de057bd781"
      },
      "source": [
        "f = open('data.met', 'r')\n",
        "lines = f.readlines()\n",
        "lines[0]"
      ],
      "execution_count": null,
      "outputs": [
        {
          "output_type": "execute_result",
          "data": {
            "text/plain": [
              "'  7  0  244  2018    0.00  347.65   0.00  15.88  0.01  2.92  1013.65\\n'"
            ]
          },
          "metadata": {
            "tags": []
          },
          "execution_count": 334
        }
      ]
    },
    {
      "cell_type": "code",
      "metadata": {
        "id": "NseyfWx7_Ymd",
        "colab_type": "code",
        "colab": {
          "base_uri": "https://localhost:8080/",
          "height": 35
        },
        "outputId": "6fa5c197-705a-44fc-a97e-b12223b8bed2"
      },
      "source": [
        "len(lines[0])"
      ],
      "execution_count": null,
      "outputs": [
        {
          "output_type": "execute_result",
          "data": {
            "text/plain": [
              "100"
            ]
          },
          "metadata": {
            "tags": []
          },
          "execution_count": 249
        }
      ]
    },
    {
      "cell_type": "markdown",
      "metadata": {
        "id": "xUyzcH4XP1Cz",
        "colab_type": "text"
      },
      "source": [
        "## Compiling the `makefile` "
      ]
    },
    {
      "cell_type": "code",
      "metadata": {
        "id": "QH4SNGE_e8R3",
        "colab_type": "code",
        "colab": {}
      },
      "source": [
        "from os import chdir\n",
        "\n",
        "path_1 = '/Users/alireza_amani/Google Drive/svs/r1618_vv'\n",
        "path_2 = '/Users/alireza_amani/Google Drive/svs/run_cdp'\n",
        "\n"
      ],
      "execution_count": null,
      "outputs": []
    },
    {
      "cell_type": "code",
      "metadata": {
        "id": "c-Uc_KLDP3Ab",
        "colab_type": "code",
        "colab": {}
      },
      "source": [
        "chdir(path_1)\n",
        "#make gfortran -- and then copy it to path 2  \n",
        "!make "
      ],
      "execution_count": null,
      "outputs": []
    },
    {
      "cell_type": "code",
      "metadata": {
        "id": "63cuNVV7BVd9",
        "colab_type": "code",
        "colab": {
          "base_uri": "https://localhost:8080/",
          "height": 1000
        },
        "outputId": "a03d739f-980d-4d1b-e401-fcb9bfd30761"
      },
      "source": [
        "chdir(path_2)\n",
        "!./sa_mesh"
      ],
      "execution_count": null,
      "outputs": [
        {
          "output_type": "stream",
          "text": [
            " MESH 1.4 ---  (1618)\r\n",
            " \r\n",
            " READING: MESH_input_run_options.ini\r\n",
            " Total number of grids: 1\r\n",
            " Total number of grids inside the basin: 1\r\n",
            " Side length of grid: 1.00000 m\r\n",
            " Number of GRUs: 1\r\n",
            " Number of land-based tiles: 1\r\n",
            " Number of river classes: 0\r\n",
            " READING: MESH_input_soil_levels.txt\r\n",
            "   Number of soil layers: 7\r\n",
            "             Level   Thickness (m)      Bottom (m)\r\n",
            "                 1    0.500000E-01    0.500000E-01\r\n",
            "                 2    0.500000E-01    0.100000\r\n",
            "                 3    0.100000        0.200000\r\n",
            "                 4    0.200000        0.400000\r\n",
            "                 5    0.600000         1.00000\r\n",
            "                 6     1.00000         2.00000\r\n",
            "                 7     1.00000         3.00000\r\n",
            " READING: MESH_parameters_CLASS.ini\r\n",
            " READING: MESH_parameters_hydrology.ini\r\n",
            " \r\n",
            " READING: Climate forcing variables\r\n",
            " basin_forcing.met\r\n",
            " basin_forcing.met\r\n",
            " basin_forcing.met\r\n",
            " basin_forcing.met\r\n",
            " basin_forcing.met\r\n",
            " basin_forcing.met\r\n",
            " basin_forcing.met\r\n",
            " basin_forcing.met\r\n",
            "          Variable            Name     File format    Frame length  Blocks in-mem.      No. series\r\n",
            "   FB              basin_forcing                 6              60               1               0\r\n",
            "   FI              basin_forcing                 6              60               1               0\r\n",
            "   RT              basin_forcing                 6              60               1               0\r\n",
            "   TT              basin_forcing                 6              60               1               0\r\n",
            "   UV              basin_forcing                 6              60               1               0\r\n",
            "   P0              basin_forcing                 6              60               1               0\r\n",
            "   HU              basin_forcing                 6              60               1               0\r\n",
            "   CLASSMET        basin_forcing                 6              60               1               0\r\n",
            " \r\n",
            " \r\n",
            " \r\n",
            " --------------------------------\r\n",
            " SVS DIAGNOSTICS\r\n",
            " --------------------------------\r\n",
            " TILE:               1\r\n",
            " --------------------------------\r\n",
            " LATITUDE:               45.8\r\n",
            " LONGITUDE:             287.6\r\n",
            " VEGETATION COVER:\r\n",
            " %  1199           0.000\r\n",
            " %  1198           0.000\r\n",
            " %  1197           0.000\r\n",
            " %  1196           0.000\r\n",
            " %  1195           0.000\r\n",
            " %  1194           0.000\r\n",
            " %  1193           0.000\r\n",
            " %  1192           0.000\r\n",
            " %  1191           0.000\r\n",
            " %  1190           0.000\r\n",
            " %  1189           0.000\r\n",
            " %  1188           0.000\r\n",
            " %  1187           0.000\r\n",
            " %  1186         100.000\r\n",
            " %  1185           0.000\r\n",
            " %  1184           0.000\r\n",
            " %  1183           0.000\r\n",
            " %  1182           0.000\r\n",
            " %  1181           0.000\r\n",
            " %  1180           0.000\r\n",
            " %  1179           0.000\r\n",
            " %  1178           0.000\r\n",
            " %  1177           0.000\r\n",
            " %  1176           0.000\r\n",
            " %  1175           0.000\r\n",
            " %  1174           0.000\r\n",
            " ROUGHNESS LENGTH:    0.082\r\n",
            " SLOPE:               0.005\r\n",
            " DRAIN.DENSITY        0.050\r\n",
            " ROOT DEPTH:          0.000\r\n",
            " % SAND:\r\n",
            "  LAYER   1:   60.000\r\n",
            "  LAYER   2:   60.000\r\n",
            "  LAYER   3:   60.000\r\n",
            "  LAYER   4:   60.000\r\n",
            "  LAYER   5:   60.000\r\n",
            "  LAYER   6:   60.000\r\n",
            "  LAYER   7:   60.000\r\n",
            " % CLAY:\r\n",
            "  LAYER   1:   30.000\r\n",
            "  LAYER   2:   30.000\r\n",
            "  LAYER   3:   30.000\r\n",
            "  LAYER   4:   30.000\r\n",
            "  LAYER   5:   30.000\r\n",
            "  LAYER   6:   30.000\r\n",
            "  LAYER   7:   30.000\r\n",
            " --------------------------------\r\n",
            " PERMEABLE LAYERS:   6\r\n",
            " SOIL MOISTURE:\r\n",
            "  LAYER   1:    0.083\r\n",
            "  LAYER   2:    0.086\r\n",
            "  LAYER   3:    0.098\r\n",
            "  LAYER   4:    0.098\r\n",
            "  LAYER   5:    0.098\r\n",
            "  LAYER   6:    0.098\r\n",
            "  LAYER   7:    0.098\r\n",
            " SOIL TEMPERATURE:  284.810 284.430\r\n",
            " VEGETATION TEMP.:  285.700 285.700\r\n",
            " SNOW TEMPERATURE:  273.160 273.160\r\n",
            " SNOW DENSITY:        0.100   0.100\r\n",
            " SNOW ALBEDO:         0.000   0.000\r\n",
            " --------------------------------\r\n",
            " SOIL MAPPING\r\n",
            " --------------------------------\r\n",
            " DATABASE: NIL\r\n",
            " WEIGHTS [METERS]:\r\n",
            "  LAYER   1 DEPTH:    0.050\r\n",
            " - NIL DEPTH:    0.025 WEIGHT:    1.000\r\n",
            " - NIL DEPTH:    0.100 WEIGHT:    0.000\r\n",
            " - NIL DEPTH:    0.225 WEIGHT:    0.000\r\n",
            " - NIL DEPTH:    0.450 WEIGHT:    0.000\r\n",
            " - NIL DEPTH:    0.800 WEIGHT:    0.000\r\n",
            " - NIL DEPTH:    1.500 WEIGHT:    0.000\r\n",
            " - NIL DEPTH:    2.000 WEIGHT:    0.000\r\n",
            "  LAYER   2 DEPTH:    0.100\r\n",
            " - NIL DEPTH:    0.025 WEIGHT:    0.000\r\n",
            " - NIL DEPTH:    0.100 WEIGHT:    1.000\r\n",
            " - NIL DEPTH:    0.225 WEIGHT:    0.000\r\n",
            " - NIL DEPTH:    0.450 WEIGHT:    0.000\r\n",
            " - NIL DEPTH:    0.800 WEIGHT:    0.000\r\n",
            " - NIL DEPTH:    1.500 WEIGHT:    0.000\r\n",
            " - NIL DEPTH:    2.000 WEIGHT:    0.000\r\n",
            "  LAYER   3 DEPTH:    0.200\r\n",
            " - NIL DEPTH:    0.025 WEIGHT:    0.000\r\n",
            " - NIL DEPTH:    0.100 WEIGHT:    0.000\r\n",
            " - NIL DEPTH:    0.225 WEIGHT:    1.000\r\n",
            " - NIL DEPTH:    0.450 WEIGHT:    0.000\r\n",
            " - NIL DEPTH:    0.800 WEIGHT:    0.000\r\n",
            " - NIL DEPTH:    1.500 WEIGHT:    0.000\r\n",
            " - NIL DEPTH:    2.000 WEIGHT:    0.000\r\n",
            "  LAYER   4 DEPTH:    0.400\r\n",
            " - NIL DEPTH:    0.025 WEIGHT:    0.000\r\n",
            " - NIL DEPTH:    0.100 WEIGHT:    0.000\r\n",
            " - NIL DEPTH:    0.225 WEIGHT:    0.000\r\n",
            " - NIL DEPTH:    0.450 WEIGHT:    1.000\r\n",
            " - NIL DEPTH:    0.800 WEIGHT:    0.000\r\n",
            " - NIL DEPTH:    1.500 WEIGHT:    0.000\r\n",
            " - NIL DEPTH:    2.000 WEIGHT:    0.000\r\n",
            "  LAYER   5 DEPTH:    1.000\r\n",
            " - NIL DEPTH:    0.025 WEIGHT:    0.000\r\n",
            " - NIL DEPTH:    0.100 WEIGHT:    0.000\r\n",
            " - NIL DEPTH:    0.225 WEIGHT:    0.000\r\n",
            " - NIL DEPTH:    0.450 WEIGHT:    0.000\r\n",
            " - NIL DEPTH:    0.800 WEIGHT:    1.000\r\n",
            " - NIL DEPTH:    1.500 WEIGHT:    0.000\r\n",
            " - NIL DEPTH:    2.000 WEIGHT:    0.000\r\n",
            "  LAYER   6 DEPTH:    2.000\r\n",
            " - NIL DEPTH:    0.025 WEIGHT:    0.000\r\n",
            " - NIL DEPTH:    0.100 WEIGHT:    0.000\r\n",
            " - NIL DEPTH:    0.225 WEIGHT:    0.000\r\n",
            " - NIL DEPTH:    0.450 WEIGHT:    0.000\r\n",
            " - NIL DEPTH:    0.800 WEIGHT:    0.000\r\n",
            " - NIL DEPTH:    1.500 WEIGHT:    1.000\r\n",
            " - NIL DEPTH:    2.000 WEIGHT:    0.000\r\n",
            "  LAYER   7 DEPTH:    3.000\r\n",
            " - NIL DEPTH:    0.025 WEIGHT:    0.000\r\n",
            " - NIL DEPTH:    0.100 WEIGHT:    0.000\r\n",
            " - NIL DEPTH:    0.225 WEIGHT:    0.000\r\n",
            " - NIL DEPTH:    0.450 WEIGHT:    0.000\r\n",
            " - NIL DEPTH:    0.800 WEIGHT:    0.000\r\n",
            " - NIL DEPTH:    1.500 WEIGHT:    0.000\r\n",
            " - NIL DEPTH:    2.000 WEIGHT:    1.000\r\n",
            " --------------------------------\r\n",
            " \n",
            " \n",
            " \n",
            " \n",
            " DONE INTITIALIZATION\n",
            " \n",
            " STARTING MESH\n",
            "  2018 244     0.178    -0.121**********\n",
            "  2018 245     0.611    -0.174**********\n",
            "  2018 246    36.378    -0.178**********\n",
            "  2018 247     0.002    -0.033**********\n",
            "  2018 248     0.040    -0.133**********\n",
            "  2018 249     0.474    -0.353**********\n",
            "  2018 250     0.001    -0.013**********\n",
            "  2018 251     0.000    -0.069**********\n",
            "  2018 252     0.000    -0.013**********\n",
            "  2018 253     0.013    -0.068**********\n",
            "  2018 254    17.957    -0.048**********\n",
            "  2018 255     0.004    -0.006**********\n",
            "  2018 256     0.003    -0.005**********\n",
            "  2018 257     0.000    -0.013**********\n",
            "  2018 258     0.015    -0.026**********\n",
            "  2018 259     0.000    -0.025**********\n",
            "  2018 260     0.001    -0.240**********\n",
            "  2018 261     0.749    -0.249**********\n",
            "  2018 262     0.000    -0.109**********\n",
            "  2018 263     0.001    -0.016**********\n",
            "  2018 264    11.450    -2.095**********\n",
            "  2018 265     9.882    -2.147**********\n",
            "  2018 266     0.003    -0.075**********\n",
            "  2018 267     0.003     0.007**********\n",
            "  2018 268     5.177    -0.366**********\n",
            "  2018 269     7.282    -1.277**********\n",
            "  2018 270     0.002    -0.119**********\n",
            "  2018 271     0.368    -0.096**********\n",
            "  2018 272     1.397    -0.169**********\n",
            "  2018 273     0.008    -0.090**********\n",
            "  2018 274     0.476    -0.009**********\n",
            "  2018 275     6.827    -0.214**********\n",
            "  2018 276     0.099    -0.036**********\n",
            "  2018 277     2.398    -0.782**********\n",
            "  2018 278     0.001    -0.088**********\n",
            "  2018 279     0.021    -0.008**********\n",
            "  2018 280     1.397    -0.041**********\n",
            "  2018 281     0.067    -0.016**********\n",
            "  2018 282    11.311    -0.602**********\n",
            "  2018 283     8.348    -0.315**********\n",
            "  2018 284    28.327    -0.109**********\n",
            "  2018 285     0.008    -0.174**********\n",
            "  2018 286     0.079    -0.085**********\n",
            "  2018 287     0.005    -0.043**********\n",
            "  2018 288     3.101    -0.288**********\n",
            "  2018 289     5.484    -0.651**********\n",
            "  2018 290     2.360    -0.261**********\n",
            "  2018 291     0.044     1.006**********\n",
            "  2018 292     0.005    -0.392**********\n",
            "  2018 293     1.505    -1.149**********\n",
            "  2018 294     0.021     0.780**********\n",
            "  2018 295     0.012     0.116**********\n",
            "  2018 296     0.100    -0.008**********\n",
            "  2018 297     7.632    -0.049**********\n",
            "  2018 298     0.002     0.184**********\n",
            "  2018 299     0.000     0.001**********\n",
            "  2018 300     1.243     0.182**********\n",
            "  2018 301    22.731    -0.096**********\n",
            "  2018 302     2.385    -0.095**********\n",
            "  2018 303     0.039    -0.008**********\n",
            "  2018 304     5.254    -0.052**********\n",
            "  2018 305     0.683    -0.030**********\n",
            "  2018 306    15.274    -0.351**********\n",
            "  2018 307    20.609    -0.470**********\n",
            "  2018 308     0.394     0.199**********\n",
            "  2018 309     2.692    -0.082**********\n",
            "  2018 310     8.237    -0.227**********\n",
            "  2018 311     5.109    -2.005**********\n",
            "  2018 312     0.282    -0.539**********\n",
            "  2018 313     0.008    -0.005**********\n",
            "  2018 314    16.557     0.327**********\n",
            "  2018 315     0.011     1.284**********\n",
            "  2018 316     0.007    -0.018**********\n",
            "  2018 317     7.562    -0.067**********\n",
            "  2018 318     1.274     0.860**********\n",
            "  2018 319     0.002    -0.005**********\n",
            "  2018 320    10.399    -0.022**********\n",
            "  2018 321     2.035    -0.057**********\n",
            "  2018 322     0.033    -0.008**********\n",
            "  2018 323     1.137    -0.059**********\n",
            "  2018 324     5.511    -0.013**********\n",
            "  2018 325     3.619     0.176**********\n",
            "  2018 326     0.050     0.553**********\n",
            "  2018 327     0.101    -0.022**********\n",
            "  2018 328     0.029    -0.021**********\n",
            "  2018 329     6.401    -0.048**********\n",
            "  2018 330     0.340    -0.053**********\n",
            "  2018 331    23.822     0.192**********\n",
            "  2018 332    12.900     0.003**********\n",
            "  2018 333     0.446     0.015**********\n",
            "  2018 334     0.089     0.019**********\n",
            "  2018 335     0.004    -0.018**********\n",
            "  2018 336     9.875    -0.102**********\n",
            "  2018 337     8.388     0.053**********\n",
            "  2018 338     0.047     0.591**********\n",
            "  2018 339     0.020    -0.007**********\n",
            "  2018 340     0.512    -0.038**********\n",
            "  2018 341     1.083     0.244**********\n",
            "  2018 342     0.093     0.003**********\n",
            "  2018 343     0.653    -0.134**********\n",
            "  2018 344     0.167    -0.040**********\n",
            "  2018 345     0.016    -0.006**********\n",
            "  2018 346     0.266    -0.001**********\n",
            "  2018 347     0.011    -0.005**********\n",
            "  2018 348     2.104    -0.156**********\n",
            "  2018 349     4.401    -0.285**********\n",
            "  2018 350     0.043    -0.014**********\n",
            "  2018 351     1.183    -0.046**********\n",
            "  2018 352     0.691     0.829**********\n",
            "  2018 353     0.028    -0.030**********\n",
            "  2018 354     0.031    -0.018**********\n",
            "  2018 355    43.216    -0.503**********\n",
            "  2018 356    13.864    -0.127**********\n",
            "  2018 357     0.029     0.355**********\n",
            "  2018 358     0.010    -0.004**********\n",
            "  2018 359     0.003    -0.006**********\n",
            "  2018 360     0.129    -0.011**********\n",
            "  2018 361     0.016    -0.006**********\n",
            "  2018 362    15.350    -0.368**********\n",
            "  2018 363     4.005    -0.050**********\n",
            "  2018 364     0.011    -0.001**********\n",
            "  2018 365     0.102    -0.004**********\n",
            "  2019   1    23.036     0.306**********\n",
            "  2019   2     0.033     0.002**********\n",
            "  2019   3     2.112    -0.019**********\n",
            "  2019   4     1.453    -0.025**********\n",
            "  2019   5     0.159    -0.026**********\n",
            "  2019   6     0.183     0.752**********\n",
            "  2019   7     0.005     0.163**********\n",
            "  2019   8    11.945    -0.073**********\n",
            "  2019   9     6.658    -0.033**********\n",
            "  2019  10     3.509     0.580**********\n",
            "  2019  11     0.138     0.868**********\n",
            "  2019  12     0.002     0.028**********\n",
            "  2019  13     0.022    -0.003**********\n",
            "  2019  14     0.000    -0.005**********\n",
            "  2019  15     0.052    -0.012**********\n",
            "  2019  16     0.720     0.233**********\n",
            "  2019  17     0.005    -0.003**********\n",
            "  2019  18     2.280    -0.025**********\n",
            "  2019  19     0.059     0.101**********\n",
            "  2019  20    20.463     0.070**********\n",
            "  2019  21     3.775     0.191**********\n",
            "  2019  22     0.038     0.019**********\n",
            "  2019  23     6.461    -0.024**********\n",
            "  2019  24    27.268    -0.380**********\n",
            "  2019  25     5.990     0.320**********\n",
            "  2019  26     0.323     0.321**********\n",
            "  2019  27     1.793     0.211**********\n",
            "  2019  28     0.004     0.134**********\n",
            "  2019  29     6.527     0.121**********\n",
            "  2019  30     8.945     0.109**********\n",
            "  2019  31     0.056     0.775**********\n",
            "  2019  32     0.080     0.482**********\n",
            "  2019  33     2.738    -0.009**********\n",
            "  2019  34     0.075     0.049**********\n",
            "  2019  35     2.309    -0.008**********\n",
            "  2019  36     4.172    -0.039**********\n",
            "  2019  37     0.147     0.096**********\n",
            "  2019  38     5.810    -0.017**********\n",
            "  2019  39     1.158     0.797**********\n",
            "  2019  40     0.833     1.667**********\n",
            "  2019  41     0.000     0.154**********\n",
            "  2019  42     0.011    -0.020**********\n",
            "  2019  43     0.002     0.000**********\n",
            "  2019  44    23.699    -0.167**********\n",
            "  2019  45     3.850     0.229**********\n",
            "  2019  46     3.567     0.211**********\n",
            "  2019  47     1.598     0.657**********\n",
            "  2019  48     0.047     0.066**********\n",
            "  2019  49     0.003     0.145**********\n",
            "  2019  50     0.011     0.081**********\n",
            "  2019  51     0.031    -0.006**********\n",
            "  2019  52    10.834     0.076**********\n",
            "  2019  53     0.534     0.063**********\n",
            "  2019  54     0.015    -0.006**********\n",
            "  2019  55    10.034     0.025**********\n",
            "  2019  56     9.158     1.328**********\n",
            "  2019  57     0.105     1.328**********\n",
            "  2019  58     0.029     0.136**********\n",
            "  2019  59     0.025     0.013**********\n",
            "  2019  60     0.023    -0.009**********\n",
            "  2019  61     0.004    -0.006**********\n",
            "  2019  62     0.136     0.065**********\n",
            "  2019  63     2.004     0.309**********\n",
            "  2019  64     0.006     0.374**********\n",
            "  2019  65     2.545     0.478**********\n",
            "  2019  66     0.042     0.295**********\n",
            "  2019  67     0.013     0.308**********\n",
            "  2019  68     0.052    -0.048**********\n",
            "  2019  69    22.336    -0.106**********\n",
            "  2019  70     6.750     0.733**********\n",
            "  2019  71     1.180     0.472**********\n",
            "  2019  72     0.017     0.055**********\n",
            "  2019  73     2.344     0.031**********\n",
            "  2019  74     3.887    -0.582**********\n",
            "  2019  75     0.315     1.155**********\n",
            "  2019  76     0.078     1.046**********\n",
            "  2019  77     0.025     0.532**********\n",
            "  2019  78     0.020     0.047**********\n",
            "  2019  79     0.000     0.148**********\n",
            "  2019  80     0.052     0.148**********\n",
            "  2019  81    25.368     0.092**********\n",
            "  2019  82     5.749     1.231**********\n",
            "  2019  83     1.027     0.417**********\n",
            "  2019  84     0.027     0.877**********\n",
            "  2019  85     0.000     0.393**********\n",
            "  2019  86     0.000     0.228**********\n",
            "  2019  87     0.061     0.857**********\n",
            "  2019  88     1.120     0.136**********\n",
            "  2019  89     5.125    -0.191**********\n",
            "  2019  90    10.109    -0.357**********\n",
            "  2019  91     0.044     1.381**********\n",
            "  2019  92     0.004     0.580**********\n",
            "  2019  93     0.399     0.649**********\n",
            "  2019  94     1.035     2.815**********\n",
            "  2019  95     0.001     0.119**********\n",
            "  2019  96     2.803    -0.136**********\n",
            "  2019  97     0.022    -0.051**********\n",
            "  2019  98    25.645     0.339**********\n",
            "  2019  99    72.448     0.180**********\n",
            "  2019 100     8.335     0.310**********\n",
            "  2019 101     0.009     0.098**********\n",
            "  2019 102     0.002    -0.021**********\n",
            "  2019 103     0.504    -0.733**********\n",
            "  2019 104     0.292    -0.017**********\n",
            "  2019 105    12.247    -0.629**********\n",
            "  2019 106     0.764     0.282**********\n",
            "  2019 107     0.000     0.039**********\n",
            "  2019 108     0.016     0.054**********\n",
            "  2019 109    10.402    -1.166**********\n",
            "  2019 110    38.989    -0.834**********\n",
            "  2019 111     0.008    -0.207**********\n",
            "  2019 112     0.000    -0.182**********\n",
            "  2019 113     0.001    -0.139**********\n",
            "  2019 114    12.263    -0.542**********\n",
            "  2019 115     0.110    -0.022**********\n",
            "  2019 116     8.570    -0.611**********\n",
            "  2019 117    18.696    -0.792**********\n",
            "  2019 118     0.031     0.411**********\n",
            "  2019 119     0.000     0.174**********\n",
            "  2019 120     0.048     0.136**********\n",
            "  2019 121     0.155     0.052**********\n",
            "  2019 122     6.873    -0.123**********\n",
            "  2019 123     4.474    -0.020**********\n",
            "  2019 124     0.620    -0.014**********\n",
            "  2019 125     0.001    -0.009**********\n",
            "  2019 126     0.000    -0.050**********\n",
            "  2019 127     1.900    -0.056**********\n",
            "  2019 128     0.005     0.099**********\n",
            "  2019 129     0.002     0.009**********\n",
            "  2019 130    26.154    -0.790**********\n",
            "  2019 131     0.374    -0.610**********\n",
            "  2019 132     0.000     0.001**********\n",
            "  2019 133     0.000    -0.009**********\n",
            "  2019 134     6.021    -0.128**********\n",
            "  2019 135     0.007    -0.009**********\n",
            "  2019 136     0.011    -0.010**********\n",
            "  2019 137     0.002    -0.053**********\n",
            "  2019 138     0.151    -0.096**********\n",
            "  2019 139     3.945    -0.030**********\n",
            "  2019 140     4.976    -0.846**********\n",
            "  2019 141     0.362    -0.608**********\n",
            "  2019 142     0.011    -0.057**********\n",
            "  2019 143     0.023    -0.026**********\n",
            "  2019 144    17.238    -0.632**********\n",
            "  2019 145     1.885    -0.057**********\n",
            "  2019 146     5.552    -0.590**********\n",
            "  2019 147     0.177    -0.079**********\n",
            "  2019 148     0.732    -0.010**********\n",
            "  2019 149     0.000    -0.015**********\n",
            "  2019 150     0.001    -0.486**********\n",
            "  2019 151     4.763    -0.098**********\n",
            "  2019 152     0.002    -0.008**********\n",
            "  2019 153    10.006    -0.200**********\n",
            "  2019 154     0.028    -0.431**********\n",
            "  2019 155     0.058    -0.235**********\n",
            "  2019 156     0.051    -0.167**********\n",
            "  2019 157     0.008    -0.018**********\n",
            "  2019 158     0.516    -0.112**********\n",
            "  2019 159     0.000    -0.020**********\n",
            "  2019 160     0.000    -0.018**********\n",
            "  2019 161     0.000    -0.065**********\n",
            "  2019 162    18.655    -1.291**********\n",
            "  2019 163     0.000    -0.101**********\n",
            "  2019 164     0.743    -0.176**********\n",
            "  2019 165     1.890    -0.401**********\n",
            "  2019 166     0.717    -0.320**********\n",
            "  2019 167    14.002    -0.406**********\n",
            "  2019 168     0.001    -0.031**********\n",
            "  2019 169     0.000    -0.020**********\n",
            "  2019 170     0.001    -0.036**********\n",
            "  2019 171    12.203    -0.186**********\n",
            "  2019 172     0.002    -0.287**********\n",
            "  2019 173     0.006    -0.224**********\n",
            "  2019 174     0.000    -0.169**********\n",
            "  2019 175     0.000    -0.022**********\n",
            "  2019 176    13.418    -0.179**********\n",
            "  2019 177     0.030    -0.202**********\n",
            "  2019 178     0.067    -0.213**********\n",
            "  2019 179     0.702    -0.058**********\n",
            "  2019 180    16.896    -0.230**********\n",
            "  2019 181     3.601    -0.152**********\n",
            "  2019 182     0.001    -0.030**********\n",
            "  2019 183     0.084    -0.092**********\n",
            "  2019 184     0.000    -0.007**********\n",
            "  2019 185     0.000    -0.026**********\n",
            "  2019 186     0.494    -0.051**********\n",
            "  2019 187    20.487    -0.225**********\n",
            "  2019 188     0.000    -0.067**********\n",
            "  2019 189     0.000    -0.023**********\n",
            "  2019 190     0.000    -0.055**********\n",
            "  2019 191     0.000    -0.017**********\n",
            "  2019 192     7.748    -0.127**********\n",
            "  2019 193     9.593    -0.167**********\n",
            "  2019 194     0.000    -0.165**********\n",
            "  2019 195    10.442    -0.207**********\n",
            "  2019 196     0.000    -0.042**********\n",
            "  2019 197     0.015    -0.305**********\n",
            "  2019 198     6.955    -0.219**********\n",
            "  2019 199     0.001    -0.042**********\n",
            "  2019 200     8.412    -0.361**********\n",
            "  2019 201     0.003    -0.198**********\n",
            "  2019 202     7.882    -0.136**********\n",
            "  2019 203     0.000    -0.018**********\n",
            "  2019 204     0.000    -0.026**********\n",
            "  2019 205     0.390    -0.025**********\n",
            "  2019 206     0.000    -0.011**********\n",
            "  2019 207     0.000    -0.081**********\n",
            "  2019 208     0.000    -0.033**********\n",
            "  2019 209     0.024    -0.273**********\n",
            "  2019 210     0.001    -0.123**********\n",
            "  2019 211     0.110    -0.506**********\n",
            "  2019 212     0.818    -0.169**********\n",
            "  2019 213     0.000    -0.023**********\n",
            "  2019 214     0.000    -0.084**********\n",
            "  2019 215     0.035    -0.378**********\n",
            "  2019 216     0.000    -0.027**********\n",
            "  2019 217     0.000    -0.029**********\n",
            "  2019 218     0.004    -0.067**********\n",
            "  2019 219     0.016    -0.029**********\n",
            "  2019 220    11.102    -0.054**********\n",
            "  2019 221     6.260    -0.481**********\n",
            "  2019 222     3.012    -0.152**********\n",
            "  2019 223     0.025    -0.420**********\n",
            "  2019 224     2.205    -0.241**********\n",
            "  2019 225     0.000    -0.112**********\n",
            "  2019 226     0.000    -0.029**********\n",
            "  2019 227     0.000    -0.007**********\n",
            "  2019 228     2.526    -0.014**********\n",
            "  2019 229     6.803    -0.036**********\n",
            "  2019 230     0.390    -0.030**********\n",
            "  2019 231     0.309    -0.262**********\n",
            "  2019 232     0.000    -0.061**********\n",
            "  2019 233    10.696    -0.062**********\n",
            "  2019 234     0.068    -0.225**********\n",
            "  2019 235     0.000    -0.075**********\n",
            "  2019 236     0.000    -0.035**********\n",
            "  2019 237     0.000    -0.014**********\n",
            "  2019 238     0.001    -0.016**********\n",
            "  2019 239     0.000    -0.023**********\n",
            "  2019 240     5.031    -0.073**********\n",
            "  2019 241     2.687    -0.084**********\n",
            "  2019 242     5.693    -0.484**********\n",
            "  2019 243     0.002    -0.088**********\n",
            " Reached end of forcing data.\n",
            " \n",
            " End of run totals\n",
            " \n",
            "   Total Precipitation         (mm) =    1284.53\n",
            "   Total Evaporation           (mm) =   -8.25726\n",
            "   Total Runoff                (mm) =   0.121255E+14\n",
            "   Storage(Change/Init/Final)  (mm) =   -21.0000         0.00000        -21.0000\n",
            " \n",
            "   Total Overland flow         (mm) =   0.121255E+14\n",
            "   Total Interflow             (mm) =    0.00000\n",
            "   Total Baseflow              (mm) =   0.978452E-06\n",
            " \n",
            " \n",
            " Program has terminated normally.\n",
            "Note: The following floating-point exceptions are signalling: IEEE_UNDERFLOW_FLAG\n"
          ],
          "name": "stdout"
        }
      ]
    },
    {
      "cell_type": "code",
      "metadata": {
        "id": "caYLMk3pX-MC",
        "colab_type": "code",
        "colab": {}
      },
      "source": [
        "# lets try to open the input options \n",
        "chdir(path_2)\n",
        "\n",
        "run_options = open('MESH_input_run_options.ini', 'r')\n",
        "lines = run_options.readlines( )"
      ],
      "execution_count": null,
      "outputs": []
    },
    {
      "cell_type": "code",
      "metadata": {
        "id": "_329amplYp8q",
        "colab_type": "code",
        "colab": {
          "base_uri": "https://localhost:8080/",
          "height": 171
        },
        "outputId": "0df24d94-2d9f-4972-de07-e74b316fba03"
      },
      "source": [
        ""
      ],
      "execution_count": null,
      "outputs": [
        {
          "output_type": "error",
          "ename": "TypeError",
          "evalue": "ignored",
          "traceback": [
            "\u001b[0;31m---------------------------------------------------------------------------\u001b[0m",
            "\u001b[0;31mTypeError\u001b[0m                                 Traceback (most recent call last)",
            "\u001b[0;32m<ipython-input-453-b1e0d06a1798>\u001b[0m in \u001b[0;36m<module>\u001b[0;34m\u001b[0m\n\u001b[0;32m----> 1\u001b[0;31m \u001b[0mlines\u001b[0m\u001b[0;34m[\u001b[0m\u001b[0;34m-\u001b[0m\u001b[0;36m1\u001b[0m\u001b[0;34m]\u001b[0m\u001b[0;34m[\u001b[0m\u001b[0mlines\u001b[0m\u001b[0;34m[\u001b[0m\u001b[0;34m-\u001b[0m\u001b[0;36m1\u001b[0m\u001b[0;34m]\u001b[0m\u001b[0;34m[\u001b[0m\u001b[0;34m:\u001b[0m\u001b[0;34m]\u001b[0m\u001b[0;34m]\u001b[0m  \u001b[0;34m==\u001b[0m \u001b[0;34m'0'\u001b[0m\u001b[0;34m\u001b[0m\u001b[0;34m\u001b[0m\u001b[0m\n\u001b[0m",
            "\u001b[0;31mTypeError\u001b[0m: string indices must be integers"
          ]
        }
      ]
    },
    {
      "cell_type": "code",
      "metadata": {
        "id": "vJwYBF3TgcLg",
        "colab_type": "code",
        "colab": {}
      },
      "source": [
        ""
      ],
      "execution_count": null,
      "outputs": []
    }
  ]
}
